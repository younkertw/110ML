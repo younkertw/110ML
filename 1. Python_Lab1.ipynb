{
 "cells": [
  {
   "cell_type": "code",
   "execution_count": 1,
   "metadata": {},
   "outputs": [
    {
     "name": "stdout",
     "output_type": "stream",
     "text": [
      "Hello, world!\n"
     ]
    }
   ],
   "source": [
    "print(\"Hello, world!\")"
   ]
  },
  {
   "cell_type": "code",
   "execution_count": 2,
   "metadata": {},
   "outputs": [
    {
     "name": "stdout",
     "output_type": "stream",
     "text": [
      "5\n"
     ]
    }
   ],
   "source": [
    "print(2+3)"
   ]
  },
  {
   "cell_type": "code",
   "execution_count": 3,
   "metadata": {},
   "outputs": [
    {
     "name": "stdout",
     "output_type": "stream",
     "text": [
      "2+3 5\n"
     ]
    }
   ],
   "source": [
    "print(\"2+3\", 2+3)"
   ]
  },
  {
   "cell_type": "code",
   "execution_count": 4,
   "metadata": {},
   "outputs": [],
   "source": [
    "x, y, z =1, 2, 3"
   ]
  },
  {
   "cell_type": "code",
   "execution_count": 2,
   "metadata": {},
   "outputs": [
    {
     "name": "stdout",
     "output_type": "stream",
     "text": [
      "0\n",
      "1\n",
      "2\n",
      "3\n",
      "4\n"
     ]
    }
   ],
   "source": [
    "for i in range(0, 5):\n",
    "    print(i)"
   ]
  },
  {
   "cell_type": "code",
   "execution_count": 10,
   "metadata": {},
   "outputs": [],
   "source": [
    "def greet(person):\n",
    "    print(\"Hello\", person)\n",
    "    print(\"How are you?\")"
   ]
  },
  {
   "cell_type": "code",
   "execution_count": 11,
   "metadata": {},
   "outputs": [
    {
     "name": "stdout",
     "output_type": "stream",
     "text": [
      "Hello John\n",
      "How are you?\n"
     ]
    }
   ],
   "source": [
    "greet(\"John\")"
   ]
  },
  {
   "cell_type": "code",
   "execution_count": 12,
   "metadata": {},
   "outputs": [
    {
     "data": {
      "text/plain": [
       "<function __main__.greet(person)>"
      ]
     },
     "execution_count": 12,
     "metadata": {},
     "output_type": "execute_result"
    }
   ],
   "source": [
    "greet"
   ]
  },
  {
   "cell_type": "code",
   "execution_count": 3,
   "metadata": {},
   "outputs": [
    {
     "name": "stdout",
     "output_type": "stream",
     "text": [
      "This program illustrates a chastic function.\n",
      "Enter a number between 0 and 10.5\n",
      "0.975\n",
      "0.09506250000000008\n",
      "0.33549992226562525\n",
      "0.8694649252590003\n",
      "0.44263310911310905\n",
      "0.962165255336889\n",
      "0.1419727793616139\n",
      "0.4750843861996143\n",
      "0.9725789275369049\n",
      "0.1040097132674683\n"
     ]
    }
   ],
   "source": [
    "def chaos():\n",
    "    print(\"This program illustrates a chastic function.\")\n",
    "    x=eval(input(\"Enter a number between 0 and 1\"))\n",
    "    for i in range(10):\n",
    "        x=3.9*x*(1-x)\n",
    "        print(x)\n",
    "chaos()"
   ]
  },
  {
   "cell_type": "code",
   "execution_count": 4,
   "metadata": {},
   "outputs": [
    {
     "name": "stdout",
     "output_type": "stream",
     "text": [
      "What is the Celsius temperature?32\n",
      "The temperature is 89.6 degree Fahrenheit.\n"
     ]
    }
   ],
   "source": [
    "def convert():\n",
    "    celsius=eval(input(\"What is the Celsius temperature?\"))\n",
    "    fahrenheit=9/5*celsius+32\n",
    "    print(\"The temperature is\", fahrenheit,\"degree Fahrenheit.\")\n",
    "convert()"
   ]
  },
  {
   "cell_type": "code",
   "execution_count": 4,
   "metadata": {},
   "outputs": [
    {
     "name": "stdout",
     "output_type": "stream",
     "text": [
      "The program computes the average of two exam scores.\n",
      "Enter two scores separated by a comma:98,17\n",
      "The average of the scores is: 57.5\n"
     ]
    }
   ],
   "source": [
    "def avg2():\n",
    "    print(\"The program computes the average of two exam scores.\")\n",
    "    score1, score2=eval(input(\"Enter two scores separated by a comma:\"))\n",
    "    average=(score1+score2)/2\n",
    "    print(\"The average of the scores is:\", average)\n",
    "avg2()"
   ]
  },
  {
   "cell_type": "code",
   "execution_count": 6,
   "metadata": {},
   "outputs": [
    {
     "name": "stdout",
     "output_type": "stream",
     "text": [
      "The program calculates the future value of a year investment.\n",
      "Enter the initial principal:10000\n",
      "Enter the annual interest rate:0.03\n",
      "The value in 10 year is: 13439.16379344122\n"
     ]
    }
   ],
   "source": [
    "def futval1():\n",
    "    print(\"The program calculates the future value of a year investment.\")\n",
    "    principal=eval(input(\"Enter the initial principal:\"))\n",
    "    apr=eval(input(\"Enter the annual interest rate:\"))\n",
    "    for i in range(10):\n",
    "        principal=principal*(1+apr)\n",
    "    print(\"The value in 10 year is:\", principal)\n",
    "futval1()"
   ]
  },
  {
   "cell_type": "code",
   "execution_count": 7,
   "metadata": {},
   "outputs": [
    {
     "name": "stdout",
     "output_type": "stream",
     "text": [
      "Change Counter\n",
      "Please enter the count of each coin types\n",
      "Quarters:10\n",
      "Dimes:10\n",
      "Nickles:10\n",
      "Pennies:10\n",
      "The total value of your change is 4.1\n"
     ]
    }
   ],
   "source": [
    "def change():\n",
    "    print(\"Change Counter\")\n",
    "    print(\"Please enter the count of each coin types\")\n",
    "    quarters=eval(input(\"Quarters:\"))\n",
    "    dimes=eval(input(\"Dimes:\"))\n",
    "    nickles=eval(input(\"Nickles:\"))\n",
    "    pennies=eval(input(\"Pennies:\"))\n",
    "    total=quarters*.25+dimes*.1+nickles*.05+pennies*.01\n",
    "    print(\"The total value of your change is\", total)\n",
    "change()"
   ]
  },
  {
   "cell_type": "code",
   "execution_count": 11,
   "metadata": {},
   "outputs": [
    {
     "name": "stdout",
     "output_type": "stream",
     "text": [
      "The program finds the real solution to a quadratic\n",
      "\n",
      "Please enter the coefficients(a,b,c):3,10,3\n",
      "\n",
      "The solutios are: -0.3333333333333333 -0.3333333333333333\n"
     ]
    }
   ],
   "source": [
    "import math\n",
    "def quadratic():\n",
    "    print(\"The program finds the real solution to a quadratic\")\n",
    "    print()\n",
    "    a,b,c=eval(input(\"Please enter the coefficients(a,b,c):\"))\n",
    "    discRoot=math.sqrt(b*b-4*a*c)\n",
    "    root1=(-b+discRoot)/(2*a)\n",
    "    root2=(-b+discRoot)/(2*a)\n",
    "    print()\n",
    "    print(\"The solutios are:\", root1, root2)\n",
    "quadratic()"
   ]
  },
  {
   "cell_type": "code",
   "execution_count": 12,
   "metadata": {},
   "outputs": [
    {
     "name": "stdout",
     "output_type": "stream",
     "text": [
      "Please fact=enter a whole number:3\n",
      "The factoral of 3 is 3\n",
      "The factoral of 3 is 6\n"
     ]
    }
   ],
   "source": [
    "def factorial():\n",
    "    n=eval(input(\"Please fact=enter a whole number:\"))\n",
    "    fact=1\n",
    "    for factor in range(n,1,-1):\n",
    "        fact=fact*factor\n",
    "        print(\"The factoral of\",n, \"is\",fact)\n",
    "factorial()"
   ]
  },
  {
   "cell_type": "code",
   "execution_count": 13,
   "metadata": {},
   "outputs": [
    {
     "name": "stdout",
     "output_type": "stream",
     "text": [
      "This program generates computer usernames.\n",
      "\n",
      "Please enter your first name(all lowercase):chunghsien\n",
      "Please enter your last name(all lowercase):tsai\n",
      "Your name is: ctsai\n"
     ]
    }
   ],
   "source": [
    "def username():\n",
    "    print(\"This program generates computer usernames.\\n\")\n",
    "    first =input(\"Please enter your first name(all lowercase):\")\n",
    "    last=input(\"Please enter your last name(all lowercase):\")\n",
    "    uname=first[0]+last[:7]\n",
    "    print(\"Your name is:\", uname)\n",
    "username()"
   ]
  },
  {
   "cell_type": "code",
   "execution_count": 16,
   "metadata": {},
   "outputs": [
    {
     "name": "stdout",
     "output_type": "stream",
     "text": [
      "Enter a month number(1-12):3\n",
      "The month abbreviation is Mar.\n"
     ]
    }
   ],
   "source": [
    "def month():\n",
    "    months=\"JanFebMarAprMayJunJulAugSepOctNovDec\"\n",
    "    n=eval(input(\"Enter a month number(1-12):\"))\n",
    "    pos=(n-1)*3\n",
    "    monthAbbrev=months[pos:pos+3]\n",
    "    print(\"The month abbreviation is\", monthAbbrev+\".\")\n",
    "month()"
   ]
  },
  {
   "cell_type": "code",
   "execution_count": 18,
   "metadata": {},
   "outputs": [
    {
     "name": "stdout",
     "output_type": "stream",
     "text": [
      "The program converts a textural message into a sequence of numbers representing the Unicode encoding of the message.\n",
      "\n",
      "Please enter the message to encode:IMISSYOU\n",
      "\n",
      " Here are the Unicode codes:\n",
      "73 77 73 83 83 89 79 85 \n"
     ]
    }
   ],
   "source": [
    "def text2numbers():\n",
    "    print(\"The program converts a textural message into a sequence of numbers representing the Unicode encoding of the message.\\n\")\n",
    "    message = input(\"Please enter the message to encode:\")\n",
    "    print(\"\\n Here are the Unicode codes:\")\n",
    "    for ch in message:\n",
    "        print(ord(ch), end=\" \")\n",
    "    print()\n",
    "text2numbers()   "
   ]
  },
  {
   "cell_type": "code",
   "execution_count": 19,
   "metadata": {},
   "outputs": [
    {
     "name": "stdout",
     "output_type": "stream",
     "text": [
      "The program converts a sequence of Unicode numbers into the string of text that it represents.\n",
      "\n",
      "Please enter the Unicode-coded message:73 77 73 83 83 89 79 85\n",
      "\n",
      "The decoded message is: IMISSYOU\n"
     ]
    }
   ],
   "source": [
    "def numbers2text():\n",
    "    print(\"The program converts a sequence of Unicode numbers into the string of text that it represents.\\n\")\n",
    "    inString = input(\"Please enter the Unicode-coded message:\")\n",
    "    message=\"\"\n",
    "    for numStr in inString.split():\n",
    "        codeNum=eval(numStr)\n",
    "        message=message+chr(codeNum)\n",
    "    print(\"\\nThe decoded message is:\", message)\n",
    "numbers2text() "
   ]
  },
  {
   "cell_type": "code",
   "execution_count": 2,
   "metadata": {},
   "outputs": [
    {
     "name": "stdout",
     "output_type": "stream",
     "text": [
      "Enter a date (mm/dd/yyyy):09/13/2021\n",
      "The converted date is September 13, 2021\n"
     ]
    }
   ],
   "source": [
    "def dateconvert():\n",
    "    dateStr=input(\"Enter a date (mm/dd/yyyy):\")\n",
    "    monthStr, dayStr, yearStr=dateStr.split(\"/\")\n",
    "    months=[\"January\", \"February\", \"March\", \"April\", \"May\", \"June\", \"July\", \"August\", \"September\", \"October\", \"November\", \"December\"]\n",
    "    monthStr=months[int(monthStr)-1]\n",
    "    print(\"The converted date is\", monthStr, dayStr+\",\",yearStr)\n",
    "dateconvert()"
   ]
  },
  {
   "cell_type": "code",
   "execution_count": 5,
   "metadata": {},
   "outputs": [
    {
     "name": "stdout",
     "output_type": "stream",
     "text": [
      "Enter filename:C:\\Users\\younker\\110ML\\MNIST Example.py\n",
      "from __future__ import print_function\n",
      "import argparse\n",
      "import torch\n",
      "import torch.nn as nn\n",
      "import torch.nn.functional as F\n",
      "import torch.optim as optim\n",
      "from torchvision import datasets, transforms\n",
      "from torch.optim.lr_scheduler import StepLR\n",
      "\n",
      "\n",
      "class Net(nn.Module):\n",
      "    def __init__(self):\n",
      "        super(Net, self).__init__()\n",
      "        self.conv1 = nn.Conv2d(1, 32, 3, 1)\n",
      "        self.conv2 = nn.Conv2d(32, 64, 3, 1)\n",
      "        self.dropout1 = nn.Dropout(0.25)\n",
      "        self.dropout2 = nn.Dropout(0.5)\n",
      "        self.fc1 = nn.Linear(9216, 128)\n",
      "        self.fc2 = nn.Linear(128, 10)\n",
      "\n",
      "    def forward(self, x):\n",
      "        x = self.conv1(x)\n",
      "        x = F.relu(x)\n",
      "        x = self.conv2(x)\n",
      "        x = F.relu(x)\n",
      "        x = F.max_pool2d(x, 2)\n",
      "        x = self.dropout1(x)\n",
      "        x = torch.flatten(x, 1)\n",
      "        x = self.fc1(x)\n",
      "        x = F.relu(x)\n",
      "        x = self.dropout2(x)\n",
      "        x = self.fc2(x)\n",
      "        output = F.log_softmax(x, dim=1)\n",
      "        return output\n",
      "\n",
      "\n",
      "def train(args, model, device, train_loader, optimizer, epoch):\n",
      "    model.train()\n",
      "    for batch_idx, (data, target) in enumerate(train_loader):\n",
      "        data, target = data.to(device), target.to(device)\n",
      "        optimizer.zero_grad()\n",
      "        output = model(data)\n",
      "        loss = F.nll_loss(output, target)\n",
      "        loss.backward()\n",
      "        optimizer.step()\n",
      "        if batch_idx % args.log_interval == 0:\n",
      "            print('Train Epoch: {} [{}/{} ({:.0f}%)]\\tLoss: {:.6f}'.format(\n",
      "                epoch, batch_idx * len(data), len(train_loader.dataset),\n",
      "                100. * batch_idx / len(train_loader), loss.item()))\n",
      "            if args.dry_run:\n",
      "                break\n",
      "\n",
      "\n",
      "def test(model, device, test_loader):\n",
      "    model.eval()\n",
      "    test_loss = 0\n",
      "    correct = 0\n",
      "    with torch.no_grad():\n",
      "        for data, target in test_loader:\n",
      "            data, target = data.to(device), target.to(device)\n",
      "            output = model(data)\n",
      "            test_loss += F.nll_loss(output, target, reduction='sum').item()  # sum up batch loss\n",
      "            pred = output.argmax(dim=1, keepdim=True)  # get the index of the max log-probability\n",
      "            correct += pred.eq(target.view_as(pred)).sum().item()\n",
      "\n",
      "    test_loss /= len(test_loader.dataset)\n",
      "\n",
      "    print('\\nTest set: Average loss: {:.4f}, Accuracy: {}/{} ({:.0f}%)\\n'.format(\n",
      "        test_loss, correct, len(test_loader.dataset),\n",
      "        100. * correct / len(test_loader.dataset)))\n",
      "\n",
      "\n",
      "def main():\n",
      "    # Training settings\n",
      "    parser = argparse.ArgumentParser(description='PyTorch MNIST Example')\n",
      "    parser.add_argument('--batch-size', type=int, default=64, metavar='N',\n",
      "                        help='input batch size for training (default: 64)')\n",
      "    parser.add_argument('--test-batch-size', type=int, default=1000, metavar='N',\n",
      "                        help='input batch size for testing (default: 1000)')\n",
      "    parser.add_argument('--epochs', type=int, default=14, metavar='N',\n",
      "                        help='number of epochs to train (default: 14)')\n",
      "    parser.add_argument('--lr', type=float, default=1.0, metavar='LR',\n",
      "                        help='learning rate (default: 1.0)')\n",
      "    parser.add_argument('--gamma', type=float, default=0.7, metavar='M',\n",
      "                        help='Learning rate step gamma (default: 0.7)')\n",
      "    parser.add_argument('--no-cuda', action='store_true', default=False,\n",
      "                        help='disables CUDA training')\n",
      "    parser.add_argument('--dry-run', action='store_true', default=False,\n",
      "                        help='quickly check a single pass')\n",
      "    parser.add_argument('--seed', type=int, default=1, metavar='S',\n",
      "                        help='random seed (default: 1)')\n",
      "    parser.add_argument('--log-interval', type=int, default=10, metavar='N',\n",
      "                        help='how many batches to wait before logging training status')\n",
      "    parser.add_argument('--save-model', action='store_true', default=False,\n",
      "                        help='For Saving the current Model')\n",
      "    args = parser.parse_args()\n",
      "    use_cuda = not args.no_cuda and torch.cuda.is_available()\n",
      "\n",
      "    torch.manual_seed(args.seed)\n",
      "\n",
      "    device = torch.device(\"cuda\" if use_cuda else \"cpu\")\n",
      "\n",
      "    train_kwargs = {'batch_size': args.batch_size}\n",
      "    test_kwargs = {'batch_size': args.test_batch_size}\n",
      "    if use_cuda:\n",
      "        cuda_kwargs = {'num_workers': 1,\n",
      "                       'pin_memory': True,\n",
      "                       'shuffle': True}\n",
      "        train_kwargs.update(cuda_kwargs)\n",
      "        test_kwargs.update(cuda_kwargs)\n",
      "\n",
      "    transform=transforms.Compose([\n",
      "        transforms.ToTensor(),\n",
      "        transforms.Normalize((0.1307,), (0.3081,))\n",
      "        ])\n",
      "    dataset1 = datasets.MNIST('../data', train=True, download=True,\n",
      "                       transform=transform)\n",
      "    dataset2 = datasets.MNIST('../data', train=False,\n",
      "                       transform=transform)\n",
      "    train_loader = torch.utils.data.DataLoader(dataset1,**train_kwargs)\n",
      "    test_loader = torch.utils.data.DataLoader(dataset2, **test_kwargs)\n",
      "\n",
      "    model = Net().to(device)\n",
      "    optimizer = optim.Adadelta(model.parameters(), lr=args.lr)\n",
      "\n",
      "    scheduler = StepLR(optimizer, step_size=1, gamma=args.gamma)\n",
      "    for epoch in range(1, args.epochs + 1):\n",
      "        train(args, model, device, train_loader, optimizer, epoch)\n",
      "        test(model, device, test_loader)\n",
      "        scheduler.step()\n",
      "\n",
      "    if args.save_model:\n",
      "        torch.save(model.state_dict(), \"mnist_cnn.pt\")\n",
      "\n",
      "\n",
      "if __name__ == '__main__':\n",
      "    main()\n"
     ]
    }
   ],
   "source": [
    "def printfile():\n",
    "    fname=input(\"Enter filename:\")\n",
    "    infile = open(fname, \"r\")\n",
    "    data = infile.read()\n",
    "    print(data)\n",
    "    infile.close()\n",
    "printfile()"
   ]
  },
  {
   "cell_type": "code",
   "execution_count": 16,
   "metadata": {},
   "outputs": [
    {
     "name": "stdout",
     "output_type": "stream",
     "text": [
      "This program creates a file of usernames from a file of names\n",
      "What file are the names in?C:\\Users\\younker\\110ML\\1. Python_Lab1\\inputfileName.txt\n",
      "What file should the usernames go in?C:\\Users\\younker\\110ML\\1. Python_Lab1\\printfileName.txt\n",
      "Usernames have been written to C:\\Users\\younker\\110ML\\1. Python_Lab1\\printfileName.txt\n"
     ]
    }
   ],
   "source": [
    "def userfile():\n",
    "    print(\"This program creates a file of usernames from a file of names\")\n",
    "    infileName=input(\"What file are the names in?\")\n",
    "    outfileName=input(\"What file should the usernames go in?\")\n",
    "    infile=open(infileName,\"r\")\n",
    "    outfile=open(outfileName,\"w\")\n",
    "    for line in infile:\n",
    "        first, last=line.split()\n",
    "        uname=(first[0]+last[:7].lower())\n",
    "        print(uname, file=outfile)\n",
    "    infile.close()\n",
    "    outfile.close()\n",
    "    print(\"Usernames have been written to\", outfileName)\n",
    "userfile()"
   ]
  },
  {
   "cell_type": "code",
   "execution_count": null,
   "metadata": {},
   "outputs": [],
   "source": []
  },
  {
   "cell_type": "code",
   "execution_count": null,
   "metadata": {},
   "outputs": [],
   "source": []
  }
 ],
 "metadata": {
  "kernelspec": {
   "display_name": "Python 3",
   "language": "python",
   "name": "python3"
  },
  "language_info": {
   "codemirror_mode": {
    "name": "ipython",
    "version": 3
   },
   "file_extension": ".py",
   "mimetype": "text/x-python",
   "name": "python",
   "nbconvert_exporter": "python",
   "pygments_lexer": "ipython3",
   "version": "3.8.8"
  }
 },
 "nbformat": 4,
 "nbformat_minor": 2
}
